{
  "nbformat": 4,
  "nbformat_minor": 0,
  "metadata": {
    "colab": {
      "name": "Untitled0.ipynb",
      "provenance": [],
      "authorship_tag": "ABX9TyO02ooynJ+ZfFo9sJJLpTG/",
      "include_colab_link": true
    },
    "kernelspec": {
      "name": "python3",
      "display_name": "Python 3"
    },
    "language_info": {
      "name": "python"
    }
  },
  "cells": [
    {
      "cell_type": "markdown",
      "metadata": {
        "id": "view-in-github",
        "colab_type": "text"
      },
      "source": [
        "<a href=\"https://colab.research.google.com/github/Oghalemichael/Data-Fire-works/blob/main/Web%20Scraping%20_%20San%20Francisco%20Weather%20Site.ipynb\" target=\"_parent\"><img src=\"https://colab.research.google.com/assets/colab-badge.svg\" alt=\"Open In Colab\"/></a>"
      ]
    },
    {
      "cell_type": "code",
      "execution_count": null,
      "metadata": {
        "colab": {
          "base_uri": "https://localhost:8080/"
        },
        "id": "WI8OnLD3s6y7",
        "outputId": "7419ac79-dcee-4ad7-9df9-af012e929925"
      },
      "outputs": [
        {
          "output_type": "stream",
          "name": "stdout",
          "text": [
            "Looking in indexes: https://pypi.org/simple, https://us-python.pkg.dev/colab-wheels/public/simple/\n",
            "Requirement already satisfied: bs4 in /usr/local/lib/python3.7/dist-packages (0.0.1)\n",
            "Requirement already satisfied: beautifulsoup4 in /usr/local/lib/python3.7/dist-packages (from bs4) (4.6.3)\n"
          ]
        }
      ],
      "source": [
        "pip install bs4\n"
      ]
    },
    {
      "cell_type": "code",
      "source": [
        "import requests\n",
        "\n",
        "from bs4 import BeautifulSoup"
      ],
      "metadata": {
        "id": "FpDWOxERs_Nt"
      },
      "execution_count": null,
      "outputs": []
    },
    {
      "cell_type": "code",
      "source": [
        "url='https://forecast.weather.gov/MapClick.php?lat=37.7772&lon=-122.4168'\n",
        "page=requests.get(url)\n",
        "soup = BeautifulSoup(page.content, 'html.parser')"
      ],
      "metadata": {
        "id": "P9xTCynJB6rD"
      },
      "execution_count": null,
      "outputs": []
    },
    {
      "cell_type": "code",
      "source": [
        "seven_day = soup.find(id='seven-day-forecast')"
      ],
      "metadata": {
        "id": "g2Pp4PIDFOgU"
      },
      "execution_count": null,
      "outputs": []
    },
    {
      "cell_type": "code",
      "source": [
        "forecast_items = seven_day.find_all(class_='tombstone-container')"
      ],
      "metadata": {
        "id": "Obo7wMONGUqz"
      },
      "execution_count": null,
      "outputs": []
    },
    {
      "cell_type": "code",
      "source": [
        "tonight = forecast_items[0]\n",
        "print(tonight.prettify())"
      ],
      "metadata": {
        "colab": {
          "base_uri": "https://localhost:8080/"
        },
        "id": "y7fM5W1_GX5p",
        "outputId": "95ed877d-cb18-4252-a166-d03087d9252f"
      },
      "execution_count": null,
      "outputs": [
        {
          "output_type": "stream",
          "name": "stdout",
          "text": [
            "<div class=\"tombstone-container\">\n",
            " <p class=\"period-name\">\n",
            "  Tonight\n",
            "  <br/>\n",
            "  <br/>\n",
            " </p>\n",
            " <p>\n",
            "  <img alt=\"Tonight: Clear, with a low around 52. Breezy, with a west wind 17 to 22 mph decreasing to 5 to 10 mph in the evening. Winds could gust as high as 28 mph. \" class=\"forecast-icon\" src=\"DualImage.php?i=nwind_skc&amp;j=nskc\" title=\"Tonight: Clear, with a low around 52. Breezy, with a west wind 17 to 22 mph decreasing to 5 to 10 mph in the evening. Winds could gust as high as 28 mph. \"/>\n",
            " </p>\n",
            " <p class=\"short-desc\">\n",
            "  Clear and\n",
            "  <br/>\n",
            "  Breezy then\n",
            "  <br/>\n",
            "  Clear\n",
            " </p>\n",
            " <p class=\"temp temp-low\">\n",
            "  Low: 52 °F\n",
            " </p>\n",
            "</div>\n"
          ]
        }
      ]
    },
    {
      "cell_type": "code",
      "source": [
        ""
      ],
      "metadata": {
        "id": "liv7pHS9IhEv"
      },
      "execution_count": null,
      "outputs": []
    },
    {
      "cell_type": "markdown",
      "source": [
        ""
      ],
      "metadata": {
        "id": "lYGgfqZqLwNX"
      }
    },
    {
      "cell_type": "code",
      "source": [
        "period = tonight.find(class_=\"period-name\").get_text()\n",
        "short_desc = tonight.find(class_=\"short-desc\").get_text()\n",
        "temp = tonight.find(class_=\"temp\").get_text()\n",
        "print(period)\n",
        "print(short_desc)\n",
        "print(temp)"
      ],
      "metadata": {
        "colab": {
          "base_uri": "https://localhost:8080/"
        },
        "id": "pcR8YnAYLy_y",
        "outputId": "332d78b6-c08c-4623-eba0-73ab2bdbcdf8"
      },
      "execution_count": null,
      "outputs": [
        {
          "output_type": "stream",
          "name": "stdout",
          "text": [
            "Tonight\n",
            "Clear andBreezy thenClear\n",
            "Low: 52 °F\n"
          ]
        }
      ]
    },
    {
      "cell_type": "code",
      "source": [
        "desc = tonight.find('img')['title']\n",
        "desc"
      ],
      "metadata": {
        "colab": {
          "base_uri": "https://localhost:8080/",
          "height": 35
        },
        "id": "uYvMae1jMH5D",
        "outputId": "334bb7e3-3ee2-42ec-8fb7-90576f3c4d2a"
      },
      "execution_count": null,
      "outputs": [
        {
          "output_type": "execute_result",
          "data": {
            "text/plain": [
              "'Tonight: Clear, with a low around 52. Breezy, with a west wind 17 to 22 mph decreasing to 5 to 10 mph in the evening. Winds could gust as high as 28 mph. '"
            ],
            "application/vnd.google.colaboratory.intrinsic+json": {
              "type": "string"
            }
          },
          "metadata": {},
          "execution_count": 37
        }
      ]
    },
    {
      "cell_type": "markdown",
      "source": [
        ""
      ],
      "metadata": {
        "id": "_cJaIcDWSD_O"
      }
    },
    {
      "cell_type": "code",
      "source": [
        "period_tags = seven_day.select(\".tombstone-container .period-name\")\n",
        "period_tags"
      ],
      "metadata": {
        "colab": {
          "base_uri": "https://localhost:8080/"
        },
        "id": "3Tu73lMoPeXb",
        "outputId": "1b211366-5b68-4ad8-86a8-42d528a5f0ad"
      },
      "execution_count": null,
      "outputs": [
        {
          "output_type": "execute_result",
          "data": {
            "text/plain": [
              "[<p class=\"period-name\">Tonight<br/><br/></p>,\n",
              " <p class=\"period-name\">Tuesday<br/><br/></p>,\n",
              " <p class=\"period-name\">Tuesday<br/>Night</p>,\n",
              " <p class=\"period-name\">Wednesday<br/><br/></p>,\n",
              " <p class=\"period-name\">Wednesday<br/>Night</p>,\n",
              " <p class=\"period-name\">Thursday<br/><br/></p>,\n",
              " <p class=\"period-name\">Thursday<br/>Night</p>,\n",
              " <p class=\"period-name\">Friday<br/><br/></p>,\n",
              " <p class=\"period-name\">Friday<br/>Night</p>]"
            ]
          },
          "metadata": {},
          "execution_count": 39
        }
      ]
    },
    {
      "cell_type": "code",
      "source": [
        "periods = [pt.get_text() for pt in period_tags]\n",
        "periods"
      ],
      "metadata": {
        "colab": {
          "base_uri": "https://localhost:8080/"
        },
        "id": "5DMt8v8pSMWt",
        "outputId": "f51e3d6f-3042-4615-e9b6-96adccdcfdd8"
      },
      "execution_count": null,
      "outputs": [
        {
          "output_type": "execute_result",
          "data": {
            "text/plain": [
              "['Tonight',\n",
              " 'Tuesday',\n",
              " 'TuesdayNight',\n",
              " 'Wednesday',\n",
              " 'WednesdayNight',\n",
              " 'Thursday',\n",
              " 'ThursdayNight',\n",
              " 'Friday',\n",
              " 'FridayNight']"
            ]
          },
          "metadata": {},
          "execution_count": 40
        }
      ]
    },
    {
      "cell_type": "code",
      "source": [
        "short_descs = [sd.get_text() for sd in seven_day.select(\".tombstone-container .short-desc\")]\n",
        "temps = [t.get_text() for t in seven_day.select(\".tombstone-container .temp\")]\n",
        "descs = [d[\"title\"] for d in seven_day.select(\".tombstone-container img\")]\n",
        "\n",
        "print(short_descs)\n",
        "print(temps)\n",
        "print(descs)"
      ],
      "metadata": {
        "id": "lUxHhd00TIpm",
        "colab": {
          "base_uri": "https://localhost:8080/"
        },
        "outputId": "23d9c7f5-f971-4198-b763-06aaf7629306"
      },
      "execution_count": 42,
      "outputs": [
        {
          "output_type": "stream",
          "name": "stdout",
          "text": [
            "['Clear andBreezy thenClear', 'Sunny thenSunny andBreezy', 'Clear andBreezy thenMostly Clear', 'Sunny thenSunny andBreezy', 'Mostly Clearand Breezythen PartlyCloudy', 'Mostly Sunny', 'Mostly Cloudy', 'Partly Sunny', 'Mostly Cloudy']\n",
            "['Low: 52 °F', 'High: 72 °F', 'Low: 52 °F', 'High: 70 °F', 'Low: 54 °F', 'High: 69 °F', 'Low: 55 °F', 'High: 67 °F', 'Low: 55 °F']\n",
            "['Tonight: Clear, with a low around 52. Breezy, with a west wind 17 to 22 mph decreasing to 5 to 10 mph in the evening. Winds could gust as high as 28 mph. ', 'Tuesday: Sunny, with a high near 72. Breezy, with a west wind 6 to 11 mph increasing to 18 to 23 mph in the afternoon. Winds could gust as high as 30 mph. ', 'Tuesday Night: Mostly clear, with a low around 52. Breezy, with a west southwest wind 17 to 22 mph decreasing to 9 to 14 mph after midnight. Winds could gust as high as 28 mph. ', 'Wednesday: Sunny, with a high near 70. Breezy, with a west southwest wind 8 to 13 mph increasing to 17 to 22 mph in the afternoon. Winds could gust as high as 29 mph. ', 'Wednesday Night: Partly cloudy, with a low around 54. Breezy, with a west southwest wind 13 to 23 mph, with gusts as high as 30 mph. ', 'Thursday: Mostly sunny, with a high near 69.', 'Thursday Night: Mostly cloudy, with a low around 55.', 'Friday: Partly sunny, with a high near 67.', 'Friday Night: Mostly cloudy, with a low around 55.']\n"
          ]
        }
      ]
    },
    {
      "cell_type": "markdown",
      "source": [
        ""
      ],
      "metadata": {
        "id": "WhcyzueoVWGc"
      }
    },
    {
      "cell_type": "code",
      "source": [
        "import pandas as pd\n",
        "weather = pd.DataFrame({\n",
        "    \"period\": periods,\n",
        "    \"short_desc\": short_descs,\n",
        "    \"temp\": temps,\n",
        "    \"desc\":descs\n",
        "})\n",
        "weather"
      ],
      "metadata": {
        "colab": {
          "base_uri": "https://localhost:8080/",
          "height": 332
        },
        "id": "r9r-vxf2UgJs",
        "outputId": "3ac26a00-6d06-4921-bf38-d697f7bccb2d"
      },
      "execution_count": 43,
      "outputs": [
        {
          "output_type": "execute_result",
          "data": {
            "text/plain": [
              "           period                               short_desc         temp  \\\n",
              "0         Tonight                Clear andBreezy thenClear   Low: 52 °F   \n",
              "1         Tuesday                Sunny thenSunny andBreezy  High: 72 °F   \n",
              "2    TuesdayNight         Clear andBreezy thenMostly Clear   Low: 52 °F   \n",
              "3       Wednesday                Sunny thenSunny andBreezy  High: 70 °F   \n",
              "4  WednesdayNight  Mostly Clearand Breezythen PartlyCloudy   Low: 54 °F   \n",
              "5        Thursday                             Mostly Sunny  High: 69 °F   \n",
              "6   ThursdayNight                            Mostly Cloudy   Low: 55 °F   \n",
              "7          Friday                             Partly Sunny  High: 67 °F   \n",
              "8     FridayNight                            Mostly Cloudy   Low: 55 °F   \n",
              "\n",
              "                                                desc  \n",
              "0  Tonight: Clear, with a low around 52. Breezy, ...  \n",
              "1  Tuesday: Sunny, with a high near 72. Breezy, w...  \n",
              "2  Tuesday Night: Mostly clear, with a low around...  \n",
              "3  Wednesday: Sunny, with a high near 70. Breezy,...  \n",
              "4  Wednesday Night: Partly cloudy, with a low aro...  \n",
              "5       Thursday: Mostly sunny, with a high near 69.  \n",
              "6  Thursday Night: Mostly cloudy, with a low arou...  \n",
              "7         Friday: Partly sunny, with a high near 67.  \n",
              "8  Friday Night: Mostly cloudy, with a low around...  "
            ],
            "text/html": [
              "\n",
              "  <div id=\"df-0812feda-31cf-4f40-b53a-3ddb44fd716c\">\n",
              "    <div class=\"colab-df-container\">\n",
              "      <div>\n",
              "<style scoped>\n",
              "    .dataframe tbody tr th:only-of-type {\n",
              "        vertical-align: middle;\n",
              "    }\n",
              "\n",
              "    .dataframe tbody tr th {\n",
              "        vertical-align: top;\n",
              "    }\n",
              "\n",
              "    .dataframe thead th {\n",
              "        text-align: right;\n",
              "    }\n",
              "</style>\n",
              "<table border=\"1\" class=\"dataframe\">\n",
              "  <thead>\n",
              "    <tr style=\"text-align: right;\">\n",
              "      <th></th>\n",
              "      <th>period</th>\n",
              "      <th>short_desc</th>\n",
              "      <th>temp</th>\n",
              "      <th>desc</th>\n",
              "    </tr>\n",
              "  </thead>\n",
              "  <tbody>\n",
              "    <tr>\n",
              "      <th>0</th>\n",
              "      <td>Tonight</td>\n",
              "      <td>Clear andBreezy thenClear</td>\n",
              "      <td>Low: 52 °F</td>\n",
              "      <td>Tonight: Clear, with a low around 52. Breezy, ...</td>\n",
              "    </tr>\n",
              "    <tr>\n",
              "      <th>1</th>\n",
              "      <td>Tuesday</td>\n",
              "      <td>Sunny thenSunny andBreezy</td>\n",
              "      <td>High: 72 °F</td>\n",
              "      <td>Tuesday: Sunny, with a high near 72. Breezy, w...</td>\n",
              "    </tr>\n",
              "    <tr>\n",
              "      <th>2</th>\n",
              "      <td>TuesdayNight</td>\n",
              "      <td>Clear andBreezy thenMostly Clear</td>\n",
              "      <td>Low: 52 °F</td>\n",
              "      <td>Tuesday Night: Mostly clear, with a low around...</td>\n",
              "    </tr>\n",
              "    <tr>\n",
              "      <th>3</th>\n",
              "      <td>Wednesday</td>\n",
              "      <td>Sunny thenSunny andBreezy</td>\n",
              "      <td>High: 70 °F</td>\n",
              "      <td>Wednesday: Sunny, with a high near 70. Breezy,...</td>\n",
              "    </tr>\n",
              "    <tr>\n",
              "      <th>4</th>\n",
              "      <td>WednesdayNight</td>\n",
              "      <td>Mostly Clearand Breezythen PartlyCloudy</td>\n",
              "      <td>Low: 54 °F</td>\n",
              "      <td>Wednesday Night: Partly cloudy, with a low aro...</td>\n",
              "    </tr>\n",
              "    <tr>\n",
              "      <th>5</th>\n",
              "      <td>Thursday</td>\n",
              "      <td>Mostly Sunny</td>\n",
              "      <td>High: 69 °F</td>\n",
              "      <td>Thursday: Mostly sunny, with a high near 69.</td>\n",
              "    </tr>\n",
              "    <tr>\n",
              "      <th>6</th>\n",
              "      <td>ThursdayNight</td>\n",
              "      <td>Mostly Cloudy</td>\n",
              "      <td>Low: 55 °F</td>\n",
              "      <td>Thursday Night: Mostly cloudy, with a low arou...</td>\n",
              "    </tr>\n",
              "    <tr>\n",
              "      <th>7</th>\n",
              "      <td>Friday</td>\n",
              "      <td>Partly Sunny</td>\n",
              "      <td>High: 67 °F</td>\n",
              "      <td>Friday: Partly sunny, with a high near 67.</td>\n",
              "    </tr>\n",
              "    <tr>\n",
              "      <th>8</th>\n",
              "      <td>FridayNight</td>\n",
              "      <td>Mostly Cloudy</td>\n",
              "      <td>Low: 55 °F</td>\n",
              "      <td>Friday Night: Mostly cloudy, with a low around...</td>\n",
              "    </tr>\n",
              "  </tbody>\n",
              "</table>\n",
              "</div>\n",
              "      <button class=\"colab-df-convert\" onclick=\"convertToInteractive('df-0812feda-31cf-4f40-b53a-3ddb44fd716c')\"\n",
              "              title=\"Convert this dataframe to an interactive table.\"\n",
              "              style=\"display:none;\">\n",
              "        \n",
              "  <svg xmlns=\"http://www.w3.org/2000/svg\" height=\"24px\"viewBox=\"0 0 24 24\"\n",
              "       width=\"24px\">\n",
              "    <path d=\"M0 0h24v24H0V0z\" fill=\"none\"/>\n",
              "    <path d=\"M18.56 5.44l.94 2.06.94-2.06 2.06-.94-2.06-.94-.94-2.06-.94 2.06-2.06.94zm-11 1L8.5 8.5l.94-2.06 2.06-.94-2.06-.94L8.5 2.5l-.94 2.06-2.06.94zm10 10l.94 2.06.94-2.06 2.06-.94-2.06-.94-.94-2.06-.94 2.06-2.06.94z\"/><path d=\"M17.41 7.96l-1.37-1.37c-.4-.4-.92-.59-1.43-.59-.52 0-1.04.2-1.43.59L10.3 9.45l-7.72 7.72c-.78.78-.78 2.05 0 2.83L4 21.41c.39.39.9.59 1.41.59.51 0 1.02-.2 1.41-.59l7.78-7.78 2.81-2.81c.8-.78.8-2.07 0-2.86zM5.41 20L4 18.59l7.72-7.72 1.47 1.35L5.41 20z\"/>\n",
              "  </svg>\n",
              "      </button>\n",
              "      \n",
              "  <style>\n",
              "    .colab-df-container {\n",
              "      display:flex;\n",
              "      flex-wrap:wrap;\n",
              "      gap: 12px;\n",
              "    }\n",
              "\n",
              "    .colab-df-convert {\n",
              "      background-color: #E8F0FE;\n",
              "      border: none;\n",
              "      border-radius: 50%;\n",
              "      cursor: pointer;\n",
              "      display: none;\n",
              "      fill: #1967D2;\n",
              "      height: 32px;\n",
              "      padding: 0 0 0 0;\n",
              "      width: 32px;\n",
              "    }\n",
              "\n",
              "    .colab-df-convert:hover {\n",
              "      background-color: #E2EBFA;\n",
              "      box-shadow: 0px 1px 2px rgba(60, 64, 67, 0.3), 0px 1px 3px 1px rgba(60, 64, 67, 0.15);\n",
              "      fill: #174EA6;\n",
              "    }\n",
              "\n",
              "    [theme=dark] .colab-df-convert {\n",
              "      background-color: #3B4455;\n",
              "      fill: #D2E3FC;\n",
              "    }\n",
              "\n",
              "    [theme=dark] .colab-df-convert:hover {\n",
              "      background-color: #434B5C;\n",
              "      box-shadow: 0px 1px 3px 1px rgba(0, 0, 0, 0.15);\n",
              "      filter: drop-shadow(0px 1px 2px rgba(0, 0, 0, 0.3));\n",
              "      fill: #FFFFFF;\n",
              "    }\n",
              "  </style>\n",
              "\n",
              "      <script>\n",
              "        const buttonEl =\n",
              "          document.querySelector('#df-0812feda-31cf-4f40-b53a-3ddb44fd716c button.colab-df-convert');\n",
              "        buttonEl.style.display =\n",
              "          google.colab.kernel.accessAllowed ? 'block' : 'none';\n",
              "\n",
              "        async function convertToInteractive(key) {\n",
              "          const element = document.querySelector('#df-0812feda-31cf-4f40-b53a-3ddb44fd716c');\n",
              "          const dataTable =\n",
              "            await google.colab.kernel.invokeFunction('convertToInteractive',\n",
              "                                                     [key], {});\n",
              "          if (!dataTable) return;\n",
              "\n",
              "          const docLinkHtml = 'Like what you see? Visit the ' +\n",
              "            '<a target=\"_blank\" href=https://colab.research.google.com/notebooks/data_table.ipynb>data table notebook</a>'\n",
              "            + ' to learn more about interactive tables.';\n",
              "          element.innerHTML = '';\n",
              "          dataTable['output_type'] = 'display_data';\n",
              "          await google.colab.output.renderOutput(dataTable, element);\n",
              "          const docLink = document.createElement('div');\n",
              "          docLink.innerHTML = docLinkHtml;\n",
              "          element.appendChild(docLink);\n",
              "        }\n",
              "      </script>\n",
              "    </div>\n",
              "  </div>\n",
              "  "
            ]
          },
          "metadata": {},
          "execution_count": 43
        }
      ]
    },
    {
      "cell_type": "code",
      "source": [
        ""
      ],
      "metadata": {
        "id": "dIoarPK6VcN7"
      },
      "execution_count": null,
      "outputs": []
    }
  ]
}